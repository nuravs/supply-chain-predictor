{
  "nbformat": 4,
  "nbformat_minor": 0,
  "metadata": {
    "colab": {
      "provenance": [],
      "authorship_tag": "ABX9TyMsUTDPMcxD/ATndYGIkndK",
      "include_colab_link": true
    },
    "kernelspec": {
      "name": "python3",
      "display_name": "Python 3"
    },
    "language_info": {
      "name": "python"
    }
  },
  "cells": [
    {
      "cell_type": "markdown",
      "metadata": {
        "id": "view-in-github",
        "colab_type": "text"
      },
      "source": [
        "<a href=\"https://colab.research.google.com/github/nuravs/supply-chain-predictor/blob/main/supply_chain_predictor_dev.ipynb\" target=\"_parent\"><img src=\"https://colab.research.google.com/assets/colab-badge.svg\" alt=\"Open In Colab\"/></a>"
      ]
    },
    {
      "cell_type": "code",
      "execution_count": 8,
      "metadata": {
        "colab": {
          "base_uri": "https://localhost:8080/",
          "height": 53
        },
        "id": "xkffdWQZesZT",
        "outputId": "ab3626e4-5fa6-4290-ff94-5caf7ef539b2"
      },
      "outputs": [
        {
          "output_type": "execute_result",
          "data": {
            "text/plain": [
              "'\\nSupply Chain Disruption Predictor\\n=================================\\n\\nDay 1: Setting up development environment\\nDay 2: API registrations and first data collector\\n\\nAuthor: [Varun]\\nDate: [4th July 2025]\\n'"
            ],
            "application/vnd.google.colaboratory.intrinsic+json": {
              "type": "string"
            }
          },
          "metadata": {},
          "execution_count": 8
        }
      ],
      "source": [
        "\"\"\"\n",
        "Supply Chain Disruption Predictor\n",
        "=================================\n",
        "\n",
        "Day 1: Setting up development environment\n",
        "Day 2: API registrations and first data collector\n",
        "\n",
        "Author: [Varun]\n",
        "Date: [4th July 2025]\n",
        "\"\"\""
      ]
    },
    {
      "cell_type": "code",
      "source": [
        "# Cell 2: Install Required Libraries (CORRECTED)\n",
        "!pip install requests beautifulsoup4 pandas schedule feedparser python-dotenv\n",
        "# Note: sqlite3 is built into Python, no need to install it"
      ],
      "metadata": {
        "colab": {
          "base_uri": "https://localhost:8080/"
        },
        "id": "Gr4DFUYNfNr_",
        "outputId": "c2f5665d-93ba-454d-df4c-7a947881ee4a"
      },
      "execution_count": 9,
      "outputs": [
        {
          "output_type": "stream",
          "name": "stdout",
          "text": [
            "Requirement already satisfied: requests in /usr/local/lib/python3.11/dist-packages (2.32.3)\n",
            "Requirement already satisfied: beautifulsoup4 in /usr/local/lib/python3.11/dist-packages (4.13.4)\n",
            "Requirement already satisfied: pandas in /usr/local/lib/python3.11/dist-packages (2.2.2)\n",
            "Requirement already satisfied: schedule in /usr/local/lib/python3.11/dist-packages (1.2.2)\n",
            "Requirement already satisfied: feedparser in /usr/local/lib/python3.11/dist-packages (6.0.11)\n",
            "Requirement already satisfied: python-dotenv in /usr/local/lib/python3.11/dist-packages (1.1.1)\n",
            "Requirement already satisfied: charset-normalizer<4,>=2 in /usr/local/lib/python3.11/dist-packages (from requests) (3.4.2)\n",
            "Requirement already satisfied: idna<4,>=2.5 in /usr/local/lib/python3.11/dist-packages (from requests) (3.10)\n",
            "Requirement already satisfied: urllib3<3,>=1.21.1 in /usr/local/lib/python3.11/dist-packages (from requests) (2.4.0)\n",
            "Requirement already satisfied: certifi>=2017.4.17 in /usr/local/lib/python3.11/dist-packages (from requests) (2025.6.15)\n",
            "Requirement already satisfied: soupsieve>1.2 in /usr/local/lib/python3.11/dist-packages (from beautifulsoup4) (2.7)\n",
            "Requirement already satisfied: typing-extensions>=4.0.0 in /usr/local/lib/python3.11/dist-packages (from beautifulsoup4) (4.14.0)\n",
            "Requirement already satisfied: numpy>=1.23.2 in /usr/local/lib/python3.11/dist-packages (from pandas) (2.0.2)\n",
            "Requirement already satisfied: python-dateutil>=2.8.2 in /usr/local/lib/python3.11/dist-packages (from pandas) (2.9.0.post0)\n",
            "Requirement already satisfied: pytz>=2020.1 in /usr/local/lib/python3.11/dist-packages (from pandas) (2025.2)\n",
            "Requirement already satisfied: tzdata>=2022.7 in /usr/local/lib/python3.11/dist-packages (from pandas) (2025.2)\n",
            "Requirement already satisfied: sgmllib3k in /usr/local/lib/python3.11/dist-packages (from feedparser) (1.0.0)\n",
            "Requirement already satisfied: six>=1.5 in /usr/local/lib/python3.11/dist-packages (from python-dateutil>=2.8.2->pandas) (1.17.0)\n"
          ]
        }
      ]
    },
    {
      "cell_type": "code",
      "source": [
        "# Cell 3: Import Libraries (CORRECTED)\n",
        "import requests\n",
        "import pandas as pd\n",
        "import sqlite3  # This is built into Python\n",
        "import json\n",
        "from datetime import datetime, timedelta\n",
        "import time\n",
        "import os\n",
        "import feedparser  # For RSS feeds\n",
        "\n",
        "print(\"✅ All libraries imported successfully!\")"
      ],
      "metadata": {
        "colab": {
          "base_uri": "https://localhost:8080/"
        },
        "id": "2G2RZaR8fY1Y",
        "outputId": "81eed9c9-38e3-47f3-eddb-4d6bbcad6bc2"
      },
      "execution_count": 10,
      "outputs": [
        {
          "output_type": "stream",
          "name": "stdout",
          "text": [
            "✅ All libraries imported successfully!\n"
          ]
        }
      ]
    },
    {
      "cell_type": "code",
      "source": [
        "# Cell 4: Test Basic Setup (UNCHANGED)\n",
        "print(\"✅ All libraries imported successfully!\")\n",
        "print(f\"📅 Setup date: {datetime.now().strftime('%Y-%m-%d %H:%M:%S')}\")\n",
        "print(\"🚀 Ready to start building!\")"
      ],
      "metadata": {
        "colab": {
          "base_uri": "https://localhost:8080/"
        },
        "id": "CQo9ctzZfcYU",
        "outputId": "6f62e1a1-2dd6-48a6-99f0-8b34f420e923"
      },
      "execution_count": 11,
      "outputs": [
        {
          "output_type": "stream",
          "name": "stdout",
          "text": [
            "✅ All libraries imported successfully!\n",
            "📅 Setup date: 2025-07-04 08:54:01\n",
            "🚀 Ready to start building!\n"
          ]
        }
      ]
    },
    {
      "cell_type": "code",
      "source": [
        "# Cell 5: API Configuration (CORRECTED)\n",
        "# Store your API keys here (we'll use environment variables later)\n",
        "\n",
        "# OpenWeatherMap API Key - REPLACE WITH YOUR NEW KEY\n",
        "OPENWEATHER_API_KEY = \"170275dc9a363d20f61b1ef698a0d818\"  # Get a new one from OpenWeatherMap\n",
        "\n",
        "# Test API key function\n",
        "def test_openweather_api():\n",
        "    url = f\"http://api.openweathermap.org/data/2.5/weather?q=London&appid={OPENWEATHER_API_KEY}\"\n",
        "    response = requests.get(url)\n",
        "    if response.status_code == 200:\n",
        "        print(\"✅ OpenWeatherMap API working!\")\n",
        "        return True\n",
        "    else:\n",
        "        print(f\"❌ API Error: {response.status_code}\")\n",
        "        return False\n",
        "\n",
        "# Actually call the test function\n",
        "print(\"🔑 Testing API connection...\")\n",
        "api_test_result = test_openweather_api()"
      ],
      "metadata": {
        "colab": {
          "base_uri": "https://localhost:8080/"
        },
        "id": "DEhSrcV6nr0O",
        "outputId": "000b9d3d-b608-4790-d889-edc75db1e0cf"
      },
      "execution_count": 17,
      "outputs": [
        {
          "output_type": "stream",
          "name": "stdout",
          "text": [
            "🔑 Testing API connection...\n",
            "✅ OpenWeatherMap API working!\n"
          ]
        }
      ]
    },
    {
      "cell_type": "code",
      "source": [
        "# Cell 5B: Secure API Key Storage (OPTIONAL)\n",
        "from google.colab import userdata\n",
        "\n",
        "# Store API key securely in Colab\n",
        "# Go to the \"key\" icon in left sidebar → \"Secrets\" → Add new secret\n",
        "# Name: OPENWEATHER_API_KEY\n",
        "# Value: your_actual_api_key\n",
        "\n",
        "try:\n",
        "    OPENWEATHER_API_KEY = userdata.get('OPENWEATHER_API_KEY')\n",
        "    print(\"✅ API key loaded from secure storage\")\n",
        "except:\n",
        "    print(\"⚠️ Using hardcoded API key (not recommended for production)\")\n",
        "    OPENWEATHER_API_KEY = \"your_api_key_here\""
      ],
      "metadata": {
        "colab": {
          "base_uri": "https://localhost:8080/"
        },
        "id": "eHfG9_ghqRcq",
        "outputId": "a49110cc-5745-45e2-dcff-9cf9b2bc6226"
      },
      "execution_count": 18,
      "outputs": [
        {
          "output_type": "stream",
          "name": "stdout",
          "text": [
            "⚠️ Using hardcoded API key (not recommended for production)\n"
          ]
        }
      ]
    },
    {
      "cell_type": "code",
      "source": [
        "# Cell 6: Weather Data Collector Class\n",
        "class WeatherCollector:\n",
        "    def __init__(self, api_key):\n",
        "        self.api_key = api_key\n",
        "        self.base_url = \"http://api.openweathermap.org/data/2.5\"\n",
        "\n",
        "    def get_weather_by_city(self, city_name):\n",
        "        \"\"\"Get current weather for a specific city\"\"\"\n",
        "        url = f\"{self.base_url}/weather?q={city_name}&appid={self.api_key}&units=metric\"\n",
        "\n",
        "        try:\n",
        "            response = requests.get(url)\n",
        "            response.raise_for_status()\n",
        "            data = response.json()\n",
        "\n",
        "            # Extract relevant information\n",
        "            weather_data = {\n",
        "                'city': data['name'],\n",
        "                'country': data['sys']['country'],\n",
        "                'temperature': data['main']['temp'],\n",
        "                'humidity': data['main']['humidity'],\n",
        "                'pressure': data['main']['pressure'],\n",
        "                'wind_speed': data['wind'].get('speed', 0),\n",
        "                'weather_main': data['weather'][0]['main'],\n",
        "                'weather_description': data['weather'][0]['description'],\n",
        "                'timestamp': datetime.now().isoformat()\n",
        "            }\n",
        "\n",
        "            return weather_data\n",
        "\n",
        "        except requests.exceptions.RequestException as e:\n",
        "            print(f\"❌ Error fetching weather data: {e}\")\n",
        "            return None\n",
        "\n",
        "    def get_weather_multiple_cities(self, cities):\n",
        "        \"\"\"Get weather for multiple cities\"\"\"\n",
        "        weather_data = []\n",
        "\n",
        "        for city in cities:\n",
        "            print(f\"📍 Fetching weather for {city}...\")\n",
        "            data = self.get_weather_by_city(city)\n",
        "            if data:\n",
        "                weather_data.append(data)\n",
        "            time.sleep(1)  # Be respectful to the API (1 second delay)\n",
        "\n",
        "        return weather_data\n",
        "\n",
        "# Test the weather collector\n",
        "print(\"✅ Weather Collector class created!\")"
      ],
      "metadata": {
        "colab": {
          "base_uri": "https://localhost:8080/"
        },
        "id": "exvqFNWfoC_W",
        "outputId": "f43ea6d6-0baf-4a59-fba6-5f9a68cee906"
      },
      "execution_count": 13,
      "outputs": [
        {
          "output_type": "stream",
          "name": "stdout",
          "text": [
            "✅ Weather Collector class created!\n"
          ]
        }
      ]
    },
    {
      "cell_type": "code",
      "source": [
        "# Cell 7: Test Weather Collection\n",
        "# Major port cities for supply chain monitoring\n",
        "MAJOR_PORTS = [\n",
        "    \"Shanghai\",\n",
        "    \"Singapore\",\n",
        "    \"Rotterdam\",\n",
        "    \"Los Angeles\",\n",
        "    \"Hamburg\",\n",
        "    \"Dubai\"\n",
        "]\n",
        "\n",
        "# Initialize weather collector\n",
        "weather_collector = WeatherCollector(OPENWEATHER_API_KEY)\n",
        "\n",
        "# Test with one city first\n",
        "print(\"🌤️  Testing weather collection...\")\n",
        "test_weather = weather_collector.get_weather_by_city(\"London\")\n",
        "\n",
        "if test_weather:\n",
        "    print(\"✅ Weather collection successful!\")\n",
        "    print(f\"📊 Sample data: {test_weather}\")\n",
        "else:\n",
        "    print(\"❌ Weather collection failed - check your API key\")"
      ],
      "metadata": {
        "colab": {
          "base_uri": "https://localhost:8080/"
        },
        "id": "6_z9DyAOoOg8",
        "outputId": "4cccd455-52fc-40b6-fa1d-7cb495fda114"
      },
      "execution_count": 14,
      "outputs": [
        {
          "output_type": "stream",
          "name": "stdout",
          "text": [
            "🌤️  Testing weather collection...\n",
            "✅ Weather collection successful!\n",
            "📊 Sample data: {'city': 'London', 'country': 'GB', 'temperature': 20.37, 'humidity': 48, 'pressure': 1028, 'wind_speed': 2.64, 'weather_main': 'Clouds', 'weather_description': 'overcast clouds', 'timestamp': '2025-07-04T08:54:01.809456'}\n"
          ]
        }
      ]
    },
    {
      "cell_type": "code",
      "source": [
        "# Cell 8: Data Storage Setup\n",
        "def create_database():\n",
        "    \"\"\"Create SQLite database for storing weather data\"\"\"\n",
        "    conn = sqlite3.connect('supply_chain_data.db')\n",
        "    cursor = conn.cursor()\n",
        "\n",
        "    # Create weather data table\n",
        "    cursor.execute('''\n",
        "        CREATE TABLE IF NOT EXISTS weather_data (\n",
        "            id INTEGER PRIMARY KEY AUTOINCREMENT,\n",
        "            city TEXT,\n",
        "            country TEXT,\n",
        "            temperature REAL,\n",
        "            humidity INTEGER,\n",
        "            pressure REAL,\n",
        "            wind_speed REAL,\n",
        "            weather_main TEXT,\n",
        "            weather_description TEXT,\n",
        "            timestamp TEXT\n",
        "        )\n",
        "    ''')\n",
        "\n",
        "    conn.commit()\n",
        "    conn.close()\n",
        "    print(\"✅ Database created successfully!\")\n",
        "\n",
        "def save_weather_data(weather_data):\n",
        "    \"\"\"Save weather data to database\"\"\"\n",
        "    conn = sqlite3.connect('supply_chain_data.db')\n",
        "    cursor = conn.cursor()\n",
        "\n",
        "    for data in weather_data:\n",
        "        cursor.execute('''\n",
        "            INSERT INTO weather_data\n",
        "            (city, country, temperature, humidity, pressure, wind_speed,\n",
        "             weather_main, weather_description, timestamp)\n",
        "            VALUES (?, ?, ?, ?, ?, ?, ?, ?, ?)\n",
        "        ''', (\n",
        "            data['city'], data['country'], data['temperature'],\n",
        "            data['humidity'], data['pressure'], data['wind_speed'],\n",
        "            data['weather_main'], data['weather_description'], data['timestamp']\n",
        "        ))\n",
        "\n",
        "    conn.commit()\n",
        "    conn.close()\n",
        "    print(f\"✅ Saved {len(weather_data)} weather records to database\")\n",
        "\n",
        "# Create the database\n",
        "create_database()"
      ],
      "metadata": {
        "colab": {
          "base_uri": "https://localhost:8080/"
        },
        "id": "cgXeoS4voSAI",
        "outputId": "2c16a3b0-dbdf-43d8-aa5e-961299938e8d"
      },
      "execution_count": 15,
      "outputs": [
        {
          "output_type": "stream",
          "name": "stdout",
          "text": [
            "✅ Database created successfully!\n"
          ]
        }
      ]
    },
    {
      "cell_type": "code",
      "source": [
        "# Cell 9: First Data Collection Run\n",
        "print(\"🚀 Running first data collection...\")\n",
        "\n",
        "# Collect weather data for major ports\n",
        "weather_data = weather_collector.get_weather_multiple_cities(MAJOR_PORTS)\n",
        "\n",
        "if weather_data:\n",
        "    # Save to database\n",
        "    save_weather_data(weather_data)\n",
        "\n",
        "    # Display results\n",
        "    df = pd.DataFrame(weather_data)\n",
        "    print(\"\\n📊 Collected Weather Data:\")\n",
        "    print(df[['city', 'country', 'temperature', 'weather_main', 'wind_speed']])\n",
        "\n",
        "    print(f\"\\n✅ Successfully collected data for {len(weather_data)} cities!\")\n",
        "else:\n",
        "    print(\"❌ No weather data collected - check your API key\")"
      ],
      "metadata": {
        "colab": {
          "base_uri": "https://localhost:8080/"
        },
        "id": "P8MR2mXeoWsy",
        "outputId": "c7969b0b-8ece-4cd4-9392-d9b0c4570b45"
      },
      "execution_count": 16,
      "outputs": [
        {
          "output_type": "stream",
          "name": "stdout",
          "text": [
            "🚀 Running first data collection...\n",
            "📍 Fetching weather for Shanghai...\n",
            "📍 Fetching weather for Singapore...\n",
            "📍 Fetching weather for Rotterdam...\n",
            "📍 Fetching weather for Los Angeles...\n",
            "📍 Fetching weather for Hamburg...\n",
            "📍 Fetching weather for Dubai...\n",
            "✅ Saved 6 weather records to database\n",
            "\n",
            "📊 Collected Weather Data:\n",
            "          city country  temperature weather_main  wind_speed\n",
            "0     Shanghai      CN        34.58       Clouds        5.04\n",
            "1    Singapore      SG        31.16       Clouds        3.25\n",
            "2    Rotterdam      NL        21.65        Clear        4.54\n",
            "3  Los Angeles      US        18.25        Clear        1.63\n",
            "4      Hamburg      DE        19.65       Clouds        4.13\n",
            "5        Dubai      AE        37.51        Clear        5.21\n",
            "\n",
            "✅ Successfully collected data for 6 cities!\n"
          ]
        }
      ]
    }
  ]
}